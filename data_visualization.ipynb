{
 "cells": [
  {
   "cell_type": "code",
   "execution_count": 304,
   "metadata": {},
   "outputs": [],
   "source": [
    "import pandas as pd\n",
    "import numpy as np\n",
    "import matplotlib.pyplot as plt\n",
    "import seaborn as sns\n",
    "import networkx as nx\n",
    "import scipy as sp\n",
    "import re\n",
    "import os, sys\n",
    "import json\n",
    "from collections import defaultdict\n",
    "\n",
    "%matplotlib inline"
   ]
  },
  {
   "cell_type": "code",
   "execution_count": 305,
   "metadata": {},
   "outputs": [],
   "source": [
    "data_directory = './dataset/deezer_clean_data/'\n",
    "graph_directory = './graphs/'\n",
    "country = 'HU'\n",
    "csv_name = country + '_edges.csv'\n",
    "genre_json = country + '_genres.json'\n",
    "top_5000_subset_directory = data_directory + 'top_5000_edges_subset/'\n",
    "\n",
    "if not os.path.exists(graph_directory):\n",
    "    os.makedirs(graph_directory)\n",
    "if not os.path.exists(top_5000_subset_directory):\n",
    "    os.makedirs(top_5000_subset_directory)"
   ]
  },
  {
   "cell_type": "markdown",
   "metadata": {},
   "source": [
    "## Read and sample friendship data"
   ]
  },
  {
   "cell_type": "code",
   "execution_count": 306,
   "metadata": {},
   "outputs": [
    {
     "data": {
      "text/html": [
       "<div>\n",
       "<style scoped>\n",
       "    .dataframe tbody tr th:only-of-type {\n",
       "        vertical-align: middle;\n",
       "    }\n",
       "\n",
       "    .dataframe tbody tr th {\n",
       "        vertical-align: top;\n",
       "    }\n",
       "\n",
       "    .dataframe thead th {\n",
       "        text-align: right;\n",
       "    }\n",
       "</style>\n",
       "<table border=\"1\" class=\"dataframe\">\n",
       "  <thead>\n",
       "    <tr style=\"text-align: right;\">\n",
       "      <th></th>\n",
       "      <th>node_1</th>\n",
       "      <th>node_2</th>\n",
       "    </tr>\n",
       "  </thead>\n",
       "  <tbody>\n",
       "    <tr>\n",
       "      <th>0</th>\n",
       "      <td>0</td>\n",
       "      <td>24208</td>\n",
       "    </tr>\n",
       "    <tr>\n",
       "      <th>1</th>\n",
       "      <td>0</td>\n",
       "      <td>24445</td>\n",
       "    </tr>\n",
       "    <tr>\n",
       "      <th>2</th>\n",
       "      <td>0</td>\n",
       "      <td>18055</td>\n",
       "    </tr>\n",
       "    <tr>\n",
       "      <th>3</th>\n",
       "      <td>0</td>\n",
       "      <td>26575</td>\n",
       "    </tr>\n",
       "    <tr>\n",
       "      <th>4</th>\n",
       "      <td>0</td>\n",
       "      <td>12596</td>\n",
       "    </tr>\n",
       "    <tr>\n",
       "      <th>5</th>\n",
       "      <td>0</td>\n",
       "      <td>28092</td>\n",
       "    </tr>\n",
       "    <tr>\n",
       "      <th>6</th>\n",
       "      <td>0</td>\n",
       "      <td>14484</td>\n",
       "    </tr>\n",
       "    <tr>\n",
       "      <th>7</th>\n",
       "      <td>0</td>\n",
       "      <td>14809</td>\n",
       "    </tr>\n",
       "    <tr>\n",
       "      <th>8</th>\n",
       "      <td>0</td>\n",
       "      <td>47328</td>\n",
       "    </tr>\n",
       "    <tr>\n",
       "      <th>9</th>\n",
       "      <td>0</td>\n",
       "      <td>32542</td>\n",
       "    </tr>\n",
       "  </tbody>\n",
       "</table>\n",
       "</div>"
      ],
      "text/plain": [
       "   node_1  node_2\n",
       "0       0   24208\n",
       "1       0   24445\n",
       "2       0   18055\n",
       "3       0   26575\n",
       "4       0   12596\n",
       "5       0   28092\n",
       "6       0   14484\n",
       "7       0   14809\n",
       "8       0   47328\n",
       "9       0   32542"
      ]
     },
     "execution_count": 306,
     "metadata": {},
     "output_type": "execute_result"
    }
   ],
   "source": [
    "df = pd.read_csv(data_directory + csv_name)\n",
    "df.head(10)"
   ]
  },
  {
   "cell_type": "code",
   "execution_count": 307,
   "metadata": {},
   "outputs": [
    {
     "data": {
      "text/html": [
       "<div>\n",
       "<style scoped>\n",
       "    .dataframe tbody tr th:only-of-type {\n",
       "        vertical-align: middle;\n",
       "    }\n",
       "\n",
       "    .dataframe tbody tr th {\n",
       "        vertical-align: top;\n",
       "    }\n",
       "\n",
       "    .dataframe thead th {\n",
       "        text-align: right;\n",
       "    }\n",
       "</style>\n",
       "<table border=\"1\" class=\"dataframe\">\n",
       "  <thead>\n",
       "    <tr style=\"text-align: right;\">\n",
       "      <th></th>\n",
       "      <th>node_1</th>\n",
       "      <th>node_2</th>\n",
       "      <th>degree1</th>\n",
       "      <th>degree2</th>\n",
       "    </tr>\n",
       "  </thead>\n",
       "  <tbody>\n",
       "    <tr>\n",
       "      <th>12180</th>\n",
       "      <td>40491</td>\n",
       "      <td>45128</td>\n",
       "      <td>96</td>\n",
       "      <td>4</td>\n",
       "    </tr>\n",
       "    <tr>\n",
       "      <th>12149</th>\n",
       "      <td>40491</td>\n",
       "      <td>34793</td>\n",
       "      <td>96</td>\n",
       "      <td>19</td>\n",
       "    </tr>\n",
       "    <tr>\n",
       "      <th>12156</th>\n",
       "      <td>40491</td>\n",
       "      <td>11464</td>\n",
       "      <td>96</td>\n",
       "      <td>4</td>\n",
       "    </tr>\n",
       "    <tr>\n",
       "      <th>12155</th>\n",
       "      <td>40491</td>\n",
       "      <td>34804</td>\n",
       "      <td>96</td>\n",
       "      <td>28</td>\n",
       "    </tr>\n",
       "    <tr>\n",
       "      <th>12154</th>\n",
       "      <td>40491</td>\n",
       "      <td>18949</td>\n",
       "      <td>96</td>\n",
       "      <td>3</td>\n",
       "    </tr>\n",
       "    <tr>\n",
       "      <th>12153</th>\n",
       "      <td>40491</td>\n",
       "      <td>1713</td>\n",
       "      <td>96</td>\n",
       "      <td>1</td>\n",
       "    </tr>\n",
       "    <tr>\n",
       "      <th>12152</th>\n",
       "      <td>40491</td>\n",
       "      <td>12946</td>\n",
       "      <td>96</td>\n",
       "      <td>5</td>\n",
       "    </tr>\n",
       "    <tr>\n",
       "      <th>12151</th>\n",
       "      <td>40491</td>\n",
       "      <td>14900</td>\n",
       "      <td>96</td>\n",
       "      <td>39</td>\n",
       "    </tr>\n",
       "    <tr>\n",
       "      <th>12150</th>\n",
       "      <td>40491</td>\n",
       "      <td>2385</td>\n",
       "      <td>96</td>\n",
       "      <td>3</td>\n",
       "    </tr>\n",
       "    <tr>\n",
       "      <th>12148</th>\n",
       "      <td>40491</td>\n",
       "      <td>37300</td>\n",
       "      <td>96</td>\n",
       "      <td>16</td>\n",
       "    </tr>\n",
       "  </tbody>\n",
       "</table>\n",
       "</div>"
      ],
      "text/plain": [
       "       node_1  node_2  degree1  degree2\n",
       "12180   40491   45128       96        4\n",
       "12149   40491   34793       96       19\n",
       "12156   40491   11464       96        4\n",
       "12155   40491   34804       96       28\n",
       "12154   40491   18949       96        3\n",
       "12153   40491    1713       96        1\n",
       "12152   40491   12946       96        5\n",
       "12151   40491   14900       96       39\n",
       "12150   40491    2385       96        3\n",
       "12148   40491   37300       96       16"
      ]
     },
     "execution_count": 307,
     "metadata": {},
     "output_type": "execute_result"
    }
   ],
   "source": [
    "# Get the nodes with top degrees\n",
    "df['degree1'] = df.groupby('node_1')['node_1'].transform('count')\n",
    "df['degree2'] = df.groupby('node_2')['node_2'].transform('count')\n",
    "degree_sorted_df = df.sort_values('degree1', ascending=False)\n",
    "degree_sorted_df.head(10)"
   ]
  },
  {
   "cell_type": "code",
   "execution_count": 308,
   "metadata": {},
   "outputs": [
    {
     "data": {
      "text/html": [
       "<div>\n",
       "<style scoped>\n",
       "    .dataframe tbody tr th:only-of-type {\n",
       "        vertical-align: middle;\n",
       "    }\n",
       "\n",
       "    .dataframe tbody tr th {\n",
       "        vertical-align: top;\n",
       "    }\n",
       "\n",
       "    .dataframe thead th {\n",
       "        text-align: right;\n",
       "    }\n",
       "</style>\n",
       "<table border=\"1\" class=\"dataframe\">\n",
       "  <thead>\n",
       "    <tr style=\"text-align: right;\">\n",
       "      <th></th>\n",
       "      <th>node_1</th>\n",
       "      <th>node_2</th>\n",
       "      <th>degree1</th>\n",
       "      <th>degree2</th>\n",
       "    </tr>\n",
       "  </thead>\n",
       "  <tbody>\n",
       "    <tr>\n",
       "      <th>12180</th>\n",
       "      <td>40491</td>\n",
       "      <td>45128</td>\n",
       "      <td>96</td>\n",
       "      <td>4</td>\n",
       "    </tr>\n",
       "    <tr>\n",
       "      <th>12149</th>\n",
       "      <td>40491</td>\n",
       "      <td>34793</td>\n",
       "      <td>96</td>\n",
       "      <td>19</td>\n",
       "    </tr>\n",
       "    <tr>\n",
       "      <th>12156</th>\n",
       "      <td>40491</td>\n",
       "      <td>11464</td>\n",
       "      <td>96</td>\n",
       "      <td>4</td>\n",
       "    </tr>\n",
       "    <tr>\n",
       "      <th>12155</th>\n",
       "      <td>40491</td>\n",
       "      <td>34804</td>\n",
       "      <td>96</td>\n",
       "      <td>28</td>\n",
       "    </tr>\n",
       "    <tr>\n",
       "      <th>12154</th>\n",
       "      <td>40491</td>\n",
       "      <td>18949</td>\n",
       "      <td>96</td>\n",
       "      <td>3</td>\n",
       "    </tr>\n",
       "    <tr>\n",
       "      <th>12153</th>\n",
       "      <td>40491</td>\n",
       "      <td>1713</td>\n",
       "      <td>96</td>\n",
       "      <td>1</td>\n",
       "    </tr>\n",
       "    <tr>\n",
       "      <th>12152</th>\n",
       "      <td>40491</td>\n",
       "      <td>12946</td>\n",
       "      <td>96</td>\n",
       "      <td>5</td>\n",
       "    </tr>\n",
       "    <tr>\n",
       "      <th>12151</th>\n",
       "      <td>40491</td>\n",
       "      <td>14900</td>\n",
       "      <td>96</td>\n",
       "      <td>39</td>\n",
       "    </tr>\n",
       "    <tr>\n",
       "      <th>12150</th>\n",
       "      <td>40491</td>\n",
       "      <td>2385</td>\n",
       "      <td>96</td>\n",
       "      <td>3</td>\n",
       "    </tr>\n",
       "    <tr>\n",
       "      <th>12148</th>\n",
       "      <td>40491</td>\n",
       "      <td>37300</td>\n",
       "      <td>96</td>\n",
       "      <td>16</td>\n",
       "    </tr>\n",
       "  </tbody>\n",
       "</table>\n",
       "</div>"
      ],
      "text/plain": [
       "       node_1  node_2  degree1  degree2\n",
       "12180   40491   45128       96        4\n",
       "12149   40491   34793       96       19\n",
       "12156   40491   11464       96        4\n",
       "12155   40491   34804       96       28\n",
       "12154   40491   18949       96        3\n",
       "12153   40491    1713       96        1\n",
       "12152   40491   12946       96        5\n",
       "12151   40491   14900       96       39\n",
       "12150   40491    2385       96        3\n",
       "12148   40491   37300       96       16"
      ]
     },
     "execution_count": 308,
     "metadata": {},
     "output_type": "execute_result"
    }
   ],
   "source": [
    "# subset_df = degree_sorted_df.sample(5000).sort_values('node_1')\n",
    "# Get 5000 edges of the top degree nodes\n",
    "subset_df = degree_sorted_df.head(5000)\n",
    "subset_df.head(10)"
   ]
  },
  {
   "cell_type": "markdown",
   "metadata": {},
   "source": [
    "## Degree distribution"
   ]
  },
  {
   "cell_type": "code",
   "execution_count": 309,
   "metadata": {},
   "outputs": [],
   "source": [
    "#Degree distributions\n",
    "def plot_degree_distributions(graphs):\n",
    "    for graph in graphs:\n",
    "        degree_sequence=sorted(dict(nx.degree(graph)).values(),reverse=True) \n",
    "        dmax=max(degree_sequence)\n",
    "        print('Degree max for {}: {}'.format(graph, dmax))\n",
    "        \n",
    "        plt.figure()\n",
    "        h,bins,patches = plt.hist(degree_sequence,bins=range(0,dmax))\n",
    "        plt.title(\"Degree distribution for {}\".format(graph.name))\n",
    "        plt.xlabel(\"degree\")\n",
    "        plt.ylabel(\"number of nodes\")"
   ]
  },
  {
   "cell_type": "markdown",
   "metadata": {},
   "source": [
    "## Create Graphs"
   ]
  },
  {
   "cell_type": "code",
   "execution_count": 310,
   "metadata": {},
   "outputs": [
    {
     "name": "stdout",
     "output_type": "stream",
     "text": [
      "Average degree of subset: 2.459419576979833\n",
      "Average degree of subset users in original dataset: 18.191834727004426\n",
      "Num unique users: 4066\n"
     ]
    }
   ],
   "source": [
    "G = nx.Graph()\n",
    "G.add_nodes_from(subset_df['node_1'])\n",
    "G.add_nodes_from(subset_df['node_2'])\n",
    "G.add_edges_from(subset_df[['node_1','node_2']].values)\n",
    "G.name = 'Graph of ' + country\n",
    "\n",
    "nx.write_gml(G, graph_directory + country + '_graph.gml')\n",
    "degree_sequence = dict(nx.degree(G)).values()\n",
    "print(\"Average degree of subset:\", sum(degree_sequence)/len(degree_sequence))\n",
    "\n",
    "def get_unique_nodes_in_df(df):\n",
    "    return set(df['node_1']).union(set(df['node_2']))\n",
    "\n",
    "def get_degree_dict(df):\n",
    "    degree_dict = defaultdict(int)\n",
    "    for index, row in df.iterrows():\n",
    "        degree_dict[row['node_1']] += 1\n",
    "        degree_dict[row['node_2']] += 1\n",
    "    return degree_dict\n",
    "\n",
    "def get_total_degree_for_subset(subset_df, complete_degree_df):\n",
    "    unique_nodes = get_unique_nodes_in_df(subset_df)\n",
    "    total = 0\n",
    "    for node in unique_nodes:\n",
    "        total += complete_degree_df[node]\n",
    "    return total\n",
    "\n",
    "complete_degree_dict = get_degree_dict(df)\n",
    "\n",
    "print(\"Average degree of subset users in original dataset:\", get_total_degree_for_subset(subset_df, complete_degree_dict) / len(get_unique_nodes_in_df(subset_df)))\n",
    "print(\"Num unique users:\", len(degree_sequence))"
   ]
  },
  {
   "cell_type": "code",
   "execution_count": 311,
   "metadata": {},
   "outputs": [
    {
     "name": "stdout",
     "output_type": "stream",
     "text": [
      "Degree max for Graph of HU: 96\n"
     ]
    },
    {
     "data": {
      "image/png": "[encoded data removed]",
      "text/plain": [
       "<Figure size 432x288 with 1 Axes>"
      ]
     },
     "metadata": {},
     "output_type": "display_data"
    }
   ],
   "source": [
    "plot_degree_distributions([G])"
   ]
  },
  {
   "cell_type": "code",
   "execution_count": 312,
   "metadata": {},
   "outputs": [
    {
     "name": "stdout",
     "output_type": "stream",
     "text": [
      "41773 32498 32800\n"
     ]
    }
   ],
   "source": [
    "degree_sequence=sorted(dict(nx.degree(G)).values(),reverse=True)\n",
    "\n",
    "print(len(list(set(unique_subset_df['node_1']).union(set(unique_subset_df2['node_2'])))), len(unique_subset_df), len(unique_subset_df2))\n"
   ]
  },
  {
   "cell_type": "markdown",
   "metadata": {},
   "source": [
    "### Create csv from top 5000"
   ]
  },
  {
   "cell_type": "code",
   "execution_count": 313,
   "metadata": {},
   "outputs": [],
   "source": [
    "header = [\"node_1\", \"node_2\"]\n",
    "subset_df.to_csv(top_5000_subset_directory + csv_name, columns = header)"
   ]
  },
  {
   "cell_type": "markdown",
   "metadata": {},
   "source": [
    "### Create genre dict from top 5000"
   ]
  },
  {
   "cell_type": "code",
   "execution_count": 314,
   "metadata": {},
   "outputs": [],
   "source": [
    "with open(os.path.join(data_directory, genre_json)) as infile:\n",
    "    genre_dict = json.load(infile)\n",
    "    \n",
    "unique_nodes = set(subset_df['node_1'].values.tolist() + subset_df['node_2'].values.tolist())\n",
    "subset_genre_dict = { str(node): genre_dict[str(node)] for node in unique_nodes }\n",
    "\n",
    "with open(top_5000_subset_directory + genre_json, 'w') as outfile:\n",
    "    json.dump(subset_genre_dict, outfile)"
   ]
  }
 ],
 "metadata": {
  "kernelspec": {
   "display_name": "Python 3",
   "language": "python",
   "name": "python3"
  },
  "language_info": {
   "codemirror_mode": {
    "name": "ipython",
    "version": 3
   },
   "file_extension": ".py",
   "mimetype": "text/x-python",
   "name": "python",
   "nbconvert_exporter": "python",
   "pygments_lexer": "ipython3",
   "version": "3.6.5"
  }
 },
 "nbformat": 4,
 "nbformat_minor": 2
}
